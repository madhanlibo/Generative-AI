{
 "cells": [
  {
   "cell_type": "code",
   "execution_count": 9,
   "metadata": {},
   "outputs": [],
   "source": [
    "import chromadb\n",
    "import pandas as pd\n",
    "import numpy as np\n",
    "from sentence_transformers import SentenceTransformer"
   ]
  },
  {
   "cell_type": "code",
   "execution_count": 10,
   "metadata": {},
   "outputs": [
    {
     "data": {
      "text/html": [
       "<div>\n",
       "<style scoped>\n",
       "    .dataframe tbody tr th:only-of-type {\n",
       "        vertical-align: middle;\n",
       "    }\n",
       "\n",
       "    .dataframe tbody tr th {\n",
       "        vertical-align: top;\n",
       "    }\n",
       "\n",
       "    .dataframe thead th {\n",
       "        text-align: right;\n",
       "    }\n",
       "</style>\n",
       "<table border=\"1\" class=\"dataframe\">\n",
       "  <thead>\n",
       "    <tr style=\"text-align: right;\">\n",
       "      <th></th>\n",
       "      <th>category</th>\n",
       "      <th>title</th>\n",
       "      <th>subtitle</th>\n",
       "      <th>subtitle_truncated_flag</th>\n",
       "    </tr>\n",
       "  </thead>\n",
       "  <tbody>\n",
       "    <tr>\n",
       "      <th>0</th>\n",
       "      <td>work</td>\n",
       "      <td>\"21 Conversations\" - A fun (and easy) game for...</td>\n",
       "      <td>A (new?) Icebreaker game to get your team to s...</td>\n",
       "      <td>False</td>\n",
       "    </tr>\n",
       "    <tr>\n",
       "      <th>1</th>\n",
       "      <td>spirituality</td>\n",
       "      <td>\"Biblical Porn\" at Mars Hill</td>\n",
       "      <td>Author and UW lecturer Jessica Johnson talks a...</td>\n",
       "      <td>False</td>\n",
       "    </tr>\n",
       "    <tr>\n",
       "      <th>2</th>\n",
       "      <td>lgbtqia</td>\n",
       "      <td>\"CISGENDER?! Is That A Disease?!\"</td>\n",
       "      <td>Or, a primer in gender vocabulary for the curi...</td>\n",
       "      <td>False</td>\n",
       "    </tr>\n",
       "    <tr>\n",
       "      <th>3</th>\n",
       "      <td>equality</td>\n",
       "      <td>\"Call me Nat Love\" :Black Cowboys and the Fron...</td>\n",
       "      <td>NaN</td>\n",
       "      <td>False</td>\n",
       "    </tr>\n",
       "    <tr>\n",
       "      <th>4</th>\n",
       "      <td>artificial-intelligence</td>\n",
       "      <td>\"Can I Train my Model on Your Computer?\"</td>\n",
       "      <td>How we waste computational resources and how t...</td>\n",
       "      <td>False</td>\n",
       "    </tr>\n",
       "  </tbody>\n",
       "</table>\n",
       "</div>"
      ],
      "text/plain": [
       "                  category                                              title  \\\n",
       "0                     work  \"21 Conversations\" - A fun (and easy) game for...   \n",
       "1             spirituality                       \"Biblical Porn\" at Mars Hill   \n",
       "2                  lgbtqia                  \"CISGENDER?! Is That A Disease?!\"   \n",
       "3                 equality  \"Call me Nat Love\" :Black Cowboys and the Fron...   \n",
       "4  artificial-intelligence           \"Can I Train my Model on Your Computer?\"   \n",
       "\n",
       "                                            subtitle  subtitle_truncated_flag  \n",
       "0  A (new?) Icebreaker game to get your team to s...                    False  \n",
       "1  Author and UW lecturer Jessica Johnson talks a...                    False  \n",
       "2  Or, a primer in gender vocabulary for the curi...                    False  \n",
       "3                                                NaN                    False  \n",
       "4  How we waste computational resources and how t...                    False  "
      ]
     },
     "execution_count": 10,
     "metadata": {},
     "output_type": "execute_result"
    }
   ],
   "source": [
    "df = pd.read_csv(\"medium_post_titles.csv\")\n",
    "df.head()"
   ]
  },
  {
   "cell_type": "code",
   "execution_count": 12,
   "metadata": {},
   "outputs": [],
   "source": [
    "# Define categories you're interested in\n",
    "topics_of_interest = ['artificial-intelligence', 'data-science', 'machine-learning']\n",
    "\n",
    "# Drop rows with missing values\n",
    "df = df.dropna(subset=['title', 'subtitle', 'category'])\n",
    "\n",
    "# Apply filters\n",
    "df = df[~df[\"subtitle_truncated_flag\"]]\n",
    "df = df[df['category'].isin(topics_of_interest)]\n",
    "\n",
    "# Combine title and subtitle\n",
    "df['text'] = df['title'] + \" - \" + df['subtitle']\n",
    "\n",
    "# Create metadata dictionary\n",
    "df['meta'] = df.apply(lambda x: {\n",
    "    'text': x['text'],\n",
    "    'category': x['category']\n",
    "}, axis=1)"
   ]
  },
  {
   "cell_type": "code",
   "execution_count": 13,
   "metadata": {},
   "outputs": [
    {
     "data": {
      "text/html": [
       "<div>\n",
       "<style scoped>\n",
       "    .dataframe tbody tr th:only-of-type {\n",
       "        vertical-align: middle;\n",
       "    }\n",
       "\n",
       "    .dataframe tbody tr th {\n",
       "        vertical-align: top;\n",
       "    }\n",
       "\n",
       "    .dataframe thead th {\n",
       "        text-align: right;\n",
       "    }\n",
       "</style>\n",
       "<table border=\"1\" class=\"dataframe\">\n",
       "  <thead>\n",
       "    <tr style=\"text-align: right;\">\n",
       "      <th></th>\n",
       "      <th>category</th>\n",
       "      <th>title</th>\n",
       "      <th>subtitle</th>\n",
       "      <th>subtitle_truncated_flag</th>\n",
       "      <th>text</th>\n",
       "      <th>meta</th>\n",
       "    </tr>\n",
       "  </thead>\n",
       "  <tbody>\n",
       "    <tr>\n",
       "      <th>4</th>\n",
       "      <td>artificial-intelligence</td>\n",
       "      <td>\"Can I Train my Model on Your Computer?\"</td>\n",
       "      <td>How we waste computational resources and how t...</td>\n",
       "      <td>False</td>\n",
       "      <td>\"Can I Train my Model on Your Computer?\" - How...</td>\n",
       "      <td>{'text': '\"Can I Train my Model on Your Comput...</td>\n",
       "    </tr>\n",
       "    <tr>\n",
       "      <th>289</th>\n",
       "      <td>data-science</td>\n",
       "      <td>(Robot) data scientists as a service</td>\n",
       "      <td>Automating data science with symbolic regressi...</td>\n",
       "      <td>False</td>\n",
       "      <td>(Robot) data scientists as a service - Automat...</td>\n",
       "      <td>{'text': '(Robot) data scientists as a service...</td>\n",
       "    </tr>\n",
       "  </tbody>\n",
       "</table>\n",
       "</div>"
      ],
      "text/plain": [
       "                    category                                     title  \\\n",
       "4    artificial-intelligence  \"Can I Train my Model on Your Computer?\"   \n",
       "289             data-science      (Robot) data scientists as a service   \n",
       "\n",
       "                                              subtitle  \\\n",
       "4    How we waste computational resources and how t...   \n",
       "289  Automating data science with symbolic regressi...   \n",
       "\n",
       "     subtitle_truncated_flag  \\\n",
       "4                      False   \n",
       "289                    False   \n",
       "\n",
       "                                                  text  \\\n",
       "4    \"Can I Train my Model on Your Computer?\" - How...   \n",
       "289  (Robot) data scientists as a service - Automat...   \n",
       "\n",
       "                                                  meta  \n",
       "4    {'text': '\"Can I Train my Model on Your Comput...  \n",
       "289  {'text': '(Robot) data scientists as a service...  "
      ]
     },
     "execution_count": 13,
     "metadata": {},
     "output_type": "execute_result"
    }
   ],
   "source": [
    "df.head(2)"
   ]
  },
  {
   "cell_type": "code",
   "execution_count": 16,
   "metadata": {},
   "outputs": [],
   "source": [
    "from typing import List\n",
    "from chromadb.utils.embedding_functions import EmbeddingFunction\n",
    "\n",
    "# Load the embedding model\n",
    "model = SentenceTransformer('all-MiniLM-L6-v2')\n",
    "\n",
    "# Embedding function wrapper (compliant)\n",
    "class MyEmbeddingFunction(EmbeddingFunction):\n",
    "    def __init__(self):\n",
    "        pass  # Currently empty, but required in future\n",
    "\n",
    "    def __call__(self, input: List[str]) -> List[List[float]]:\n",
    "        return model.encode(input).tolist()\n",
    "\n",
    "embedding_function = MyEmbeddingFunction()"
   ]
  },
  {
   "cell_type": "code",
   "execution_count": 17,
   "metadata": {},
   "outputs": [],
   "source": [
    "chroma_client = chromadb.Client()\n",
    "article_collection = chroma_client.create_collection(name=\"medium-article\",embedding_function=embedding_function,get_or_create=True)"
   ]
  },
  {
   "cell_type": "code",
   "execution_count": 19,
   "metadata": {},
   "outputs": [],
   "source": [
    "article_collection.add(\n",
    "    ids = [f'{x}' for x in df.index.tolist()],\n",
    "    documents = df['text'].tolist(),\n",
    "    metadatas = df['meta'].tolist()\n",
    ")"
   ]
  },
  {
   "cell_type": "code",
   "execution_count": 20,
   "metadata": {},
   "outputs": [],
   "source": [
    "query = \"What are the best ai libraries\""
   ]
  },
  {
   "cell_type": "code",
   "execution_count": 24,
   "metadata": {},
   "outputs": [
    {
     "name": "stdout",
     "output_type": "stream",
     "text": [
      "{'data': None,\n",
      " 'distances': [[0.7012187242507935, 0.7626003623008728]],\n",
      " 'documents': [['Top 7 libraries and packages of the year for Data Science and '\n",
      "                'AI: Python & R - This is a list of the best libraries and '\n",
      "                'packages that changed our lives this year, compiled from my '\n",
      "                'weekly digests',\n",
      "                'What are Some ‘Advanced ‘ AI and Machine Learning Online '\n",
      "                'Courses? - Where can you find advanced AI and machine '\n",
      "                'learning courses? A comprehensive review based on my personal '\n",
      "                'experience with these courses.']],\n",
      " 'embeddings': None,\n",
      " 'ids': [['103719', '112075']],\n",
      " 'included': ['documents', 'distances', 'metadatas'],\n",
      " 'metadatas': [[{'category': 'machine-learning',\n",
      "                 'text': 'Top 7 libraries and packages of the year for Data '\n",
      "                         'Science and AI: Python & R - This is a list of the '\n",
      "                         'best libraries and packages that changed our lives '\n",
      "                         'this year, compiled from my weekly digests'},\n",
      "                {'category': 'machine-learning',\n",
      "                 'text': 'What are Some ‘Advanced ‘ AI and Machine Learning '\n",
      "                         'Online Courses? - Where can you find advanced AI and '\n",
      "                         'machine learning courses? A comprehensive review '\n",
      "                         'based on my personal experience with these '\n",
      "                         'courses.'}]],\n",
      " 'uris': None}\n"
     ]
    }
   ],
   "source": [
    "from pprint import pprint\n",
    "results = article_collection.query(\n",
    "    query_texts=query, # Chroma will embed this for you\n",
    "    n_results=2, # how many results to return\n",
    "    include=['documents', 'distances', 'metadatas'] # what to return\n",
    ")\n",
    "pprint(results)"
   ]
  }
 ],
 "metadata": {
  "kernelspec": {
   "display_name": "base",
   "language": "python",
   "name": "python3"
  },
  "language_info": {
   "codemirror_mode": {
    "name": "ipython",
    "version": 3
   },
   "file_extension": ".py",
   "mimetype": "text/x-python",
   "name": "python",
   "nbconvert_exporter": "python",
   "pygments_lexer": "ipython3",
   "version": "3.12.9"
  }
 },
 "nbformat": 4,
 "nbformat_minor": 2
}
