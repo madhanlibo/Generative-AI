{
 "cells": [
  {
   "cell_type": "code",
   "execution_count": 4,
   "metadata": {},
   "outputs": [],
   "source": [
    "documents = [\n",
    "    \"Cats are independent pets.\",\n",
    "    \"Dogs are loyal and friendly animals.\",\n",
    "    \"Birds can fly and live in trees.\",\n",
    "    \"Fish live in water and need aquariums.\",\n",
    "    \"Tigers are wild animals found in forests.\"\n",
    "]"
   ]
  },
  {
   "cell_type": "code",
   "execution_count": 10,
   "metadata": {},
   "outputs": [],
   "source": [
    "from sentence_transformers import SentenceTransformer\n",
    "model = SentenceTransformer('all-MiniLM-L6-v2')\n",
    "doc_embeddings = model.encode(documents)"
   ]
  },
  {
   "cell_type": "code",
   "execution_count": 15,
   "metadata": {},
   "outputs": [
    {
     "name": "stdout",
     "output_type": "stream",
     "text": [
      "(5, 384)\n",
      "384\n"
     ]
    }
   ],
   "source": [
    "print(doc_embeddings.shape)\n",
    "print(doc_embeddings.shape[1])"
   ]
  },
  {
   "cell_type": "code",
   "execution_count": 17,
   "metadata": {},
   "outputs": [],
   "source": [
    "import faiss\n",
    "import numpy as np\n",
    "\n",
    "dimension = doc_embeddings.shape[1]\n",
    "index = faiss.IndexFlatL2(dimension)\n",
    "index.add(np.array(doc_embeddings))"
   ]
  },
  {
   "cell_type": "code",
   "execution_count": 27,
   "metadata": {},
   "outputs": [],
   "source": [
    "query = \"Which animals make friendly pets?\"\n",
    "query_embedding = model.encode([query])\n",
    "query_embedding = np.array(query_embedding).astype(\"float32\")"
   ]
  },
  {
   "cell_type": "code",
   "execution_count": 36,
   "metadata": {},
   "outputs": [
    {
     "name": "stdout",
     "output_type": "stream",
     "text": [
      "\n",
      "Top Matches:\n",
      "\n",
      "Content: Dogs are loyal and friendly animals.\n",
      "Content: Cats are independent pets.\n",
      "Content: Tigers are wild animals found in forests.\n",
      "Content: Fish live in water and need aquariums.\n",
      "Content: Birds can fly and live in trees.\n"
     ]
    }
   ],
   "source": [
    "k =5\n",
    "distances, indices = index.search(query_embedding, k)\n",
    "\n",
    "print(\"\\nTop Matches:\\n\")\n",
    "for idx in indices[0]:\n",
    "    print(f\"Content: {documents[idx]}\")"
   ]
  },
  {
   "cell_type": "code",
   "execution_count": 37,
   "metadata": {},
   "outputs": [
    {
     "name": "stdout",
     "output_type": "stream",
     "text": [
      "[[1 0 4 3 2]]\n",
      "[[0.62283707 0.9848762  1.2443695  1.3975534  1.4905014 ]]\n"
     ]
    }
   ],
   "source": [
    "print(indices)\n",
    "print(distances)"
   ]
  },
  {
   "cell_type": "markdown",
   "metadata": {},
   "source": [
    "### FAISS cosine similarity"
   ]
  },
  {
   "cell_type": "code",
   "execution_count": 38,
   "metadata": {},
   "outputs": [],
   "source": [
    "documents = [\n",
    "    \"Cats are independent pets.\",\n",
    "    \"Dogs are loyal and friendly animals.\",\n",
    "    \"Birds can fly and live in trees.\",\n",
    "    \"Fish live in water and need aquariums.\",\n",
    "    \"Tigers are wild animals found in forests.\"\n",
    "]"
   ]
  },
  {
   "cell_type": "code",
   "execution_count": 39,
   "metadata": {},
   "outputs": [],
   "source": [
    "from sentence_transformers import SentenceTransformer\n",
    "from sklearn.preprocessing import normalize\n",
    "model = SentenceTransformer('all-MiniLM-L6-v2')\n",
    "doc_embeddings = model.encode(documents)\n",
    "doc_embeddings = normalize(doc_embeddings, norm='l2')  # Normalize to unit vectors"
   ]
  },
  {
   "cell_type": "code",
   "execution_count": 40,
   "metadata": {},
   "outputs": [],
   "source": [
    "dimension = doc_embeddings.shape[1]\n",
    "index = faiss.IndexFlatIP(dimension)  # Use Inner Product instead of L2\n",
    "index.add(np.array(doc_embeddings).astype(\"float32\"))\n"
   ]
  },
  {
   "cell_type": "code",
   "execution_count": 41,
   "metadata": {},
   "outputs": [],
   "source": [
    "dimension = doc_embeddings.shape[1]\n",
    "index = faiss.IndexFlatIP(dimension)  # Use Inner Product instead of L2\n",
    "index.add(np.array(doc_embeddings).astype(\"float32\"))\n"
   ]
  },
  {
   "cell_type": "code",
   "execution_count": 42,
   "metadata": {},
   "outputs": [
    {
     "name": "stdout",
     "output_type": "stream",
     "text": [
      "\n",
      "Top Matches:\n",
      "\n",
      "Content: Dogs are loyal and friendly animals.\n",
      "Content: Cats are independent pets.\n",
      "Content: Tigers are wild animals found in forests.\n",
      "Content: Fish live in water and need aquariums.\n",
      "Content: Birds can fly and live in trees.\n"
     ]
    }
   ],
   "source": [
    "k =5\n",
    "distances, indices = index.search(query_embedding, k)\n",
    "\n",
    "print(\"\\nTop Matches:\\n\")\n",
    "for idx in indices[0]:\n",
    "    print(f\"Content: {documents[idx]}\")"
   ]
  },
  {
   "cell_type": "code",
   "execution_count": 43,
   "metadata": {},
   "outputs": [
    {
     "name": "stdout",
     "output_type": "stream",
     "text": [
      "[[1 0 4 3 2]]\n",
      "[[0.68858135 0.50756186 0.37781513 0.3012232  0.25474924]]\n"
     ]
    }
   ],
   "source": [
    "print(indices)\n",
    "print(distances)"
   ]
  }
 ],
 "metadata": {
  "kernelspec": {
   "display_name": ".venv",
   "language": "python",
   "name": "python3"
  },
  "language_info": {
   "codemirror_mode": {
    "name": "ipython",
    "version": 3
   },
   "file_extension": ".py",
   "mimetype": "text/x-python",
   "name": "python",
   "nbconvert_exporter": "python",
   "pygments_lexer": "ipython3",
   "version": "3.12.9"
  }
 },
 "nbformat": 4,
 "nbformat_minor": 2
}
